{
 "cells": [
  {
   "cell_type": "markdown",
   "metadata": {},
   "source": [
    "# Homework 1\n",
    "\n",
    "#### EE-556 Mathematics of Data - Fall 2024"
   ]
  },
  {
   "cell_type": "markdown",
   "metadata": {},
   "source": [
    "In this homework, we consider a binary classification task that we will model using logistic regression. Your goal will be to find a classifier using first-order methods and accelerated gradient descent methods. The first part will consist of more theoretical questions, and the second one will ask you to implement these methods."
   ]
  },
  {
   "cell_type": "markdown",
   "metadata": {},
   "source": [
    "<div class=\"alert alert-info\">\n",
    "  ℹ️ <strong>Information on group based work:</strong>\n",
    "</div>\n",
    "\n",
    "- You are to deliver only 1 notebook per group.\n",
    "- Asking assistance beyond your group is ok, but answers should be individual to the group.\n",
    "- In the event that there was <span style=\"color: red;\">disproportional work done</span> by different group members, let the TAs know."
   ]
  },
  {
   "cell_type": "markdown",
   "metadata": {},
   "source": [
    "<div style=\"border: 1px solid #f00; background-color: #fdd; padding: 10px; border-radius: 5px;\">\n",
    "  ⚠️ Do not forget: Write who are the people in your group as well as their respective SCIPER numbers\n",
    "</div>"
   ]
  },
  {
   "cell_type": "markdown",
   "metadata": {},
   "source": [
    "Person 1 **Name**: || Person 1 **SCIPER**:\n",
    "\n",
    "\n",
    "Person 2 **Name**: || Person 2 **SCIPER**:\n",
    "\n",
    "\n",
    "Person 3 **Name**: || Person 3 **SCIPER**:"
   ]
  },
  {
   "cell_type": "markdown",
   "metadata": {},
   "source": [
    "## 1. Logistic Regression - 15 Points"
   ]
  },
  {
   "cell_type": "markdown",
   "metadata": {},
   "source": [
    "Logistic regression is a classic approach to _binary classification_. Before we dive in, let us first define the standard logistic function $\\sigma$ on which most of what follows is built:\n",
    "\n",
    "\\begin{equation*}\n",
    "    \\sigma : x \\mapsto \\frac{1}{1 + \\exp{(-x)}}.\n",
    "\\end{equation*}\n",
    "\n",
    "In logistic regression, we model the _conditional probability_ of observing a class label $b$ given a set of features $\\mathbf{a}$. More formally, if we observe $n$ independent samples\n",
    "\n",
    "\\begin{equation*}\n",
    "    \\{(\\mathbf{a}_i,b_i)\\}_{i=1}^n,\n",
    "\\end{equation*}\n",
    "\n",
    "where $\\mathbf{a}_i\\in\\mathbb{R}^p$ and $b_i\\in\\{-1, +1\\}$ is the class label, we _assume_ that $b_i$ given $\\mathbf{a}_i$ is a symmetric Bernouilli random variable with parameter $\\sigma(\\mathbf{a}_i^T\\mathbf{x}^\\natural)$, for some unknown $\\mathbf{x}^\\natural \\in \\mathbb{R}^p$. In other words, we assume that there exists an $\\mathbf{x}^\\natural \\in \\mathbb{R}^p$ such that\n",
    "\n",
    "\\begin{equation*}\n",
    "    \\mathbb{P}(b_i = 1 \\mid \\mathbf{a}_i) = \\sigma(\\mathbf{a}_i^T\\mathbf{x}^\\natural) \\quad \\text{ and } \\quad \\mathbb{P}(b_i = -1 \\mid \\mathbf{a}_i) = 1 - \\sigma(\\mathbf{a}_i^T\\mathbf{x}^\\natural)=  \\sigma( - \\mathbf{a}_i^T\\mathbf{x}^\\natural).\n",
    "\\end{equation*}\n",
    "\n",
    "This is our statistical model. It can be written in a more compact form as follows,\n",
    "\n",
    "\\begin{equation*}\n",
    "    \\mathbb{P}(b_i = j \\mid \\mathbf{a}_i) = \\sigma(j \\cdot \\mathbf{a}_i^T\\mathbf{x}^\\natural), \\quad j \\in \\{+1, -1\\}.\n",
    "\\end{equation*}\n",
    "\n",
    "Our goal now is to determine the unknown $\\mathbf{x}^\\natural$ by constructing an estimator."
   ]
  },
  {
   "cell_type": "markdown",
   "metadata": {},
   "source": [
    "__(a)__ (1 point) We are provided with a set of $n$ independent observations. Show that the negative log-likelihood $f$ can be written as:\n",
    "\n",
    "\\begin{equation*}\n",
    "\t\\begin{aligned}\n",
    "\t\tf(\\mathbf{x}) = -\\log(\\mathbb{P}(b_1, \\dots, b_n | a_1, \\dots, a_n)) & = \\sum_{i=1}^n  \\log(1 + \\exp(- b_i \\mathbf{a}_i^T\\mathbf{x})).\n",
    "\t\\end{aligned}\n",
    "\\end{equation*}\n"
   ]
  },
  {
   "cell_type": "markdown",
   "metadata": {},
   "source": [
    "ANSWER : We start by considering a single observation, that is the likelihood of observing the class labels $b_i$ given the features $\\mathbf{a}_i$. The probability of observing $b_i$ given $\\mathbf{a}_i$ is:\n",
    "\n",
    "$$\n",
    "\\mathbb{P}(b_i \\mid \\mathbf{a}_i) = \\sigma(b_i \\cdot \\mathbf{a}_i^T \\mathbf{x}^\\natural) = \\frac{1}{1 + \\exp(- b_i \\cdot \\mathbf{a}_i^T \\mathbf{x}^\\natural)}\n",
    "$$\n",
    "\n",
    "Since the observations are independent, the joint likelihood of observing all $n$ samples is the product of the individual likelihoods:\n",
    "\n",
    "$$\n",
    "\\mathbb{P}(b_1, \\dots, b_n \\mid \\mathbf{a}_1, \\dots, \\mathbf{a}_n) = \\prod_{i=1}^n \\mathbb{P}(b_i \\mid \\mathbf{a}_i) = \\prod_{i=1}^n \\frac{1}{1 + \\exp(- b_i \\cdot \\mathbf{a}_i^T \\mathbf{x}^\\natural)}.\n",
    "$$\n",
    "\n",
    "Then, by applying the rules of calculus we get the following:\n",
    "\n",
    "\n",
    "\n",
    "$$\n",
    "f(\\mathbf{x}) = -\\log\\left( \\prod_{i=1}^n \\frac{1}{1 + \\exp(- b_i \\cdot \\mathbf{a}_i^T \\mathbf{x}^\\natural)} \\right) = -\\sum_{i=1}^n \\log\\left( \\frac{1}{1 + \\exp(- b_i \\cdot \\mathbf{a}_i^T \\mathbf{x}^\\natural)} \\right) = \\sum_{i=1}^n \\log(1 + \\exp(- b_i \\cdot \\mathbf{a}_i^T \\mathbf{x}^\\natural)).\n",
    "$$\n",
    "\n"
   ]
  },
  {
   "cell_type": "markdown",
   "metadata": {},
   "source": [
    "__(b)__ (2 point) Show that the function $u \\mapsto \\log(1 + \\exp(-u))$ is convex. Deduce that $f$ is convex."
   ]
  },
  {
   "cell_type": "code",
   "execution_count": 1,
   "metadata": {},
   "outputs": [
    {
     "data": {
      "image/png": "[encoded data removed]",
      "text/plain": [
       "<Figure size 800x600 with 1 Axes>"
      ]
     },
     "metadata": {},
     "output_type": "display_data"
    }
   ],
   "source": [
    "import numpy as np\n",
    "import matplotlib.pyplot as plt\n",
    "\n",
    "def g(u):\n",
    "    return np.log(1 + np.exp(-u))\n",
    "\n",
    "# Generate values for u\n",
    "u_values = np.linspace(-5, 5, 400)\n",
    "g_values = g(u_values)\n",
    "\n",
    "# Plot the function\n",
    "plt.figure(figsize=(8, 6))\n",
    "plt.plot(u_values, g_values, label=r'$\\log(1 + \\exp(-u))$', color='blue')\n",
    "plt.title(r'Graph of $g(u) = \\log(1 + \\exp(-u))$')\n",
    "plt.xlabel('u')\n",
    "plt.ylabel('g(u)')\n",
    "plt.grid(True)\n",
    "plt.legend()\n",
    "plt.show()\n"
   ]
  },
  {
   "cell_type": "markdown",
   "metadata": {},
   "source": [
    "From the drawing, we can directly conclude that this is a convex function. If we take the function $f$, each term in the summation, $\\log(1 + \\exp(- b_i \\mathbf{a}_i^T \\mathbf{x}))$, is a composition of the convex function $g(u) = \\log(1 + \\exp(-u))$ with the linear function $u = b_i \\mathbf{a}_i^T \\mathbf{x}$. Since the composition of a convex function with a linear function is convex, each term in the summation is convex. The sum of convex functions is also convex. Therefore, $f(\\mathbf{x})$ is convex.\n",
    "\n",
    "For a more formal demonstration:\n",
    "\n",
    "The second derivative of $\\log(1 + \\exp(-u))$ gives $\\frac{\\exp(-u)}{(1 + \\exp(-u))^2}$ and the second derivative is positive so, by the definition given by the course (lecture 3, page 28), the function $\\log(1 + \\exp(-u))$ is convex. It follows that $\\log(1 + \\exp(- b_i \\mathbf{a}_i^T\\mathbf{x}))$ is convex and knowing that the sum of convex functions gives a convex functions, we proved that $f$ is convex."
   ]
  },
  {
   "cell_type": "markdown",
   "metadata": {},
   "source": [
    "You have just established that the negative log-likelihood is a convex function. So in principle, any local minimum of the maximum likelihood estimator, which is defined as\n",
    "\n",
    "\\begin{equation*}\n",
    "    \\mathbf{x}^\\star_{ML} = \\arg\\min_{\\mathbf{x} \\in \\mathbb{R}^p} f(\\mathbf{x}),\n",
    "\\end{equation*}\n",
    "\n",
    "is a global minimum so it can serve as an estimator of $\\mathbf{x}^\\natural$. But, does the minimum always exist? We will ponder this question in the following three points.\n",
    "\n",
    "__(c)__ (1 point) Explain the difference between infima and minima.  Give an example of a convex function, defined over $\\mathbb{R}$, that does not attain its infimum. "
   ]
  },
  {
   "cell_type": "markdown",
   "metadata": {},
   "source": [
    "ANSWER : The infimum of a function over a domain is the greatest lower bound of the function's values over that domain (it may or may not be an element of the set itself), while the minimum is the smallest value the function actually attains within that domain, if it exists.\n",
    "\n",
    "Consider the function $f(x) = \\exp(x)$, which is defined over $\\mathbb{R}$. This function is convex because its second derivative is positive for all $x \\in \\mathbb{R}$: $f''(x) = \\exp(x) > 0 $.\n",
    "\n",
    "However, the function does not attain its infimum over $\\mathbb{R}$. The infimum of $f(x)$ over $\\mathbb{R}$ is 0, because $\\exp(x) > 0$ for all $x \\in \\mathbb{R}$ and $\\exp(x)$ can get arbitrarily close to 0 as $x \\to -\\infty$. But there is no $x \\in \\mathbb{R}$ such that $\\exp(x) = 0$. Therefore, the infimum is not in the set.\n"
   ]
  },
  {
   "cell_type": "markdown",
   "metadata": {},
   "source": [
    "__(d)__ (1 point) Let us assume that there exists $\\mathbf{x}_0 \\in \\mathbb{R}^p$ such that \n",
    "\n",
    "\\begin{equation*}\n",
    "    \\forall i\\in\\{1, \\dots, n\\}, \\quad \\quad b_i \\mathbf{a}_i^T\\mathbf{x}_0 > 0.\n",
    "\\end{equation*}\n",
    "\n",
    "This is called _complete separation_ in the literature. Can you think of a geometric reason why this name is appropriate? Think of a 2D example where this can happen (i.e $p=2$) and describe why _complete separation_ is an appropriate name.\n",
    "\n"
   ]
  },
  {
   "cell_type": "markdown",
   "metadata": {},
   "source": [
    "ANSWER : The term \"**complete separation**\" is appropriate because it describes a situation where the data points belonging to different classes can be perfectly separated by a hyperplane. In other words, there exists a vector $\\mathbf{x}_0$ such that the dot product $b_i \\mathbf{a}_i^T \\mathbf{x}_0$ is positive for all data points $(\\mathbf{a}_i, b_i)$."
   ]
  },
  {
   "cell_type": "markdown",
   "metadata": {},
   "source": [
    "From this, you should see that it is likely that our data satisfies the complete separation assumption. Unfortunately, as you will show in the following question, this can become an obstacle."
   ]
  },
  {
   "cell_type": "markdown",
   "metadata": {},
   "source": [
    "__(e)__ (1 point) In a _complete separation_ setting, i.e, there exists $\\mathbf{x}_0$ such that \n",
    "\n",
    "\\begin{equation*}\n",
    "    \\forall i\\in\\{1, \\dots, n\\}, \\quad \\quad b_i \\mathbf{a}_i^T\\mathbf{x}_0 > 0,\n",
    "\\end{equation*}\n",
    "\n",
    "prove that the function $f$ does not attain its minimum. \n",
    "\n",
    "__Hint__: If the function did have a minimum, would it be above, below or equal to zero? Then think of how $f(2 \\mathbf{x}_0)$ compares with $f(\\mathbf{x}_0)$, how about $f(\\alpha \\mathbf{x}_0)$ for $\\alpha \\rightarrow + \\infty$ ? "
   ]
  },
  {
   "cell_type": "markdown",
   "metadata": {},
   "source": [
    "ANSWER : We assume the function $f$ attains its minimum at some point $\\mathbf{x}^\\star$:\n",
    "\n",
    "$$\n",
    "f(\\mathbf{x}^\\star) \\leq f(\\mathbf{x}) \\quad \\forall \\mathbf{x} \\in \\mathbb{R}^p.\n",
    "$$\n",
    "\n",
    "In a complete separation setting, for any scalar $\\alpha > 0$, we should have:\n",
    "\n",
    "$$\n",
    "b_i \\mathbf{a}_i^T (\\alpha \\mathbf{x}_0) = \\alpha (b_i \\mathbf{a}_i^T \\mathbf{x}_0) > 0.\n",
    "$$\n",
    "\n",
    "Goind back to our function $f$, and looking at $f(\\alpha \\mathbf{x}_0)$, we have :\n",
    "\n",
    "$$\n",
    "f(\\alpha \\mathbf{x}_0) = \\sum_{i=1}^n \\log(1 + \\exp(- b_i \\mathbf{a}_i^T (\\alpha \\mathbf{x}_0))).\n",
    "$$\n",
    "\n",
    "As $\\alpha \\to +\\infty$, $\\exp(-\\alpha (b_i \\mathbf{a}_i^T \\mathbf{x}_0)) \\to 0$. Therefore,\n",
    "\n",
    "$$\n",
    "f(\\alpha \\mathbf{x}_0) = \\sum_{i=1}^n \\log(1 + \\exp(-\\alpha (b_i \\mathbf{a}_i^T \\mathbf{x}_0))) \\to 0 \\quad \\text{as} \\quad \\alpha \\to +\\infty.\n",
    "$$\n",
    "\n",
    "If $f$ attains its minimum at $\\mathbf{x}^\\star$, then $f(\\mathbf{x}^\\star)$ must be a finite value. However, we have shown that $f(\\alpha \\mathbf{x}_0) \\to 0$ as $\\alpha \\to +\\infty$. Since $f$ is non-negative and convex, the only way for $f$ to approach 0 is if it never attains a minimum value greater than 0. Therefore, the assumption that $f$ attains its minimum leads to a contradiction. Hence, the function $f$ does not attain its minimum in a complete separation setting."
   ]
  },
  {
   "cell_type": "markdown",
   "metadata": {},
   "source": [
    "As you have just shown convex functions do not always attain their infimum. So it is possible for the maximum-likelihood estimator $\\mathbf{x}^\\star_{ML}$ to not exist. We will resolve this issue by adding a regularizer. "
   ]
  },
  {
   "cell_type": "markdown",
   "metadata": {},
   "source": [
    "In what follows, we consider the function\n",
    "\n",
    "\\begin{equation*}\n",
    "\tf_\\mu(\\mathbf{x}) = f(\\mathbf{x}) + \\frac{\\mu}{2}\\|\\mathbf{x}\\|_2^2\n",
    "\\end{equation*}\n",
    "with $\\mu> 0$.\n",
    "\n",
    "__(f)__ (1 point) Show that the gradient of $f_\\mu$ can be expressed as \n",
    "\\begin{equation}\n",
    "\t\\nabla f_\\mu(\\mathbf{x}) = \\sum_{i=1}^n -b_i \\sigma(-b_i \\cdot \\mathbf{a}_i^T\\mathbf{x})\\mathbf{a}_i + \\mu \\mathbf{x}.\n",
    "\\tag{1}\n",
    "\\end{equation}\n",
    "__Hint__: Lecture 3 shows you how to proceed with this question."
   ]
  },
  {
   "cell_type": "markdown",
   "metadata": {},
   "source": [
    "ANSWER : Let's calculate the gradients for both terms:\n",
    "\n",
    "$$\n",
    "\\nabla f(\\mathbf{x}) = \\sum_{i=1}^n \\nabla \\log(1 + \\exp(- b_i \\mathbf{a}_i^T \\mathbf{x})).\n",
    "$$\n",
    "\n",
    "Using the chain rule, we have:\n",
    "\n",
    "$$\n",
    "\\nabla \\log(1 + \\exp(- b_i \\mathbf{a}_i^T \\mathbf{x})) = \\frac{1}{1 + \\exp(- b_i \\mathbf{a}_i^T \\mathbf{x})} \\cdot (-b_i \\mathbf{a}_i) \\cdot \\exp(- b_i \\mathbf{a}_i^T \\mathbf{x}) = -b_i \\sigma(-b_i \\mathbf{a}_i^T \\mathbf{x}) \\mathbf{a}_i\n",
    "$$\n",
    "\n",
    "where we use the following : $\\frac{\\exp\\left(-b_i \\mathbf{a}_i^T \\mathbf{x}\\right)}{1 + \\exp\\left(-b_i \\mathbf{a}_i^T \\mathbf{x}\\right)} = \\sigma\\left(-b_i \\mathbf{a}_i^T \\mathbf{x}\\right)$\n",
    "\n",
    "Then:\n",
    "\n",
    "$$\n",
    "\\nabla \\left( \\frac{\\mu}{2} \\|\\mathbf{x}\\|_2^2 \\right) = \\mu \\mathbf{x}.\n",
    "$$\n",
    "\n",
    "Combining the gradients we get:\n",
    "\n",
    "$$\n",
    "\\nabla f_\\mu(\\mathbf{x}) = \\sum_{i=1}^n -b_i \\sigma(-b_i \\mathbf{a}_i^T \\mathbf{x}) \\mathbf{a}_i + \\mu \\mathbf{x}.\n",
    "$$"
   ]
  },
  {
   "cell_type": "markdown",
   "metadata": {},
   "source": [
    "__(g)__ (1 point) Show that the Hessian of $f_\\mu$ can be expressed as \n",
    "\\begin{equation}\n",
    "\t\\nabla^2 f_\\mu(\\mathbf{x}) = \\sum_{i=1}^{n} \\sigma(-b_i \\cdot \\mathbf{a}_i^T\\mathbf{x})(1 - \\sigma(-b_i \\cdot \\mathbf{a}_i^T\\mathbf{x}))\\mathbf{a}_i\\mathbf{a}_i^T + \\mu \\mathbf{I}.\n",
    "\\tag{2}\n",
    "\\end{equation}"
   ]
  },
  {
   "cell_type": "markdown",
   "metadata": {},
   "source": [
    "ANSWER : The Hessian of $f(\\mathbf{x})$ is:\n",
    "\n",
    "$$\n",
    "\\nabla^2 f(\\mathbf{x}) = \\sum_{i=1}^n \\nabla \\left( -b_i \\sigma(-b_i \\mathbf{a}_i^T \\mathbf{x}) \\mathbf{a}_i \\right).\n",
    "$$\n",
    "\n",
    "Using the chain rule, we have:\n",
    "\n",
    "$$\n",
    "\\nabla \\left( -b_i \\sigma(-b_i \\mathbf{a}_i^T \\mathbf{x}) \\mathbf{a}_i \\right) = -b_i \\mathbf{a}_i \\nabla \\left( \\sigma(-b_i \\mathbf{a}_i^T \\mathbf{x}) \\right)^T.\n",
    "$$\n",
    "\n",
    "The gradient of $\\sigma(-b_i \\mathbf{a}_i^T \\mathbf{x})$ is:\n",
    "\n",
    "$$\n",
    "\\nabla \\sigma(-b_i \\mathbf{a}_i^T \\mathbf{x}) = \\sigma(-b_i \\mathbf{a}_i^T \\mathbf{x})(1 - \\sigma(-b_i \\mathbf{a}_i^T \\mathbf{x}))(-b_i \\mathbf{a}_i).\n",
    "$$\n",
    "\n",
    "Now we substitute this result back into the chain rule expression:\n",
    "\n",
    "$$\n",
    "\\nabla \\left( -b_i \\sigma(-b_i \\mathbf{a}_i^T \\mathbf{x}) \\mathbf{a}_i \\right) = -b_i \\mathbf{a}_i \\left( \\sigma(-b_i \\mathbf{a}_i^T \\mathbf{x})(1 - \\sigma(-b_i \\mathbf{a}_i^T \\mathbf{x}))(-b_i \\mathbf{a}_i) \\right)^T.\n",
    "$$\n",
    "\n",
    "This simplifies to:\n",
    "\n",
    "$$\n",
    "b_i^2 \\sigma(-b_i \\mathbf{a}_i^T \\mathbf{x}) (1 - \\sigma(-b_i \\mathbf{a}_i^T \\mathbf{x})) \\mathbf{a}_i \\mathbf{a}_i^T.\n",
    "$$\n",
    "\n",
    "\n",
    "Therefore, the Hessian of $f(\\mathbf{x})$ is:\n",
    "\n",
    "$$\n",
    "\\nabla^2 f(\\mathbf{x}) = \\sum_{i=1}^n -b_i^2 \\sigma(-b_i \\mathbf{a}_i^T \\mathbf{x})(1 - \\sigma(-b_i \\mathbf{a}_i^T \\mathbf{x})) \\mathbf{a}_i \\mathbf{a}_i^T.\n",
    "$$\n",
    "\n",
    "The Hessian of the regularization term is:\n",
    "\n",
    "$$\n",
    "\\nabla^2 \\left( \\frac{\\mu}{2} \\|\\mathbf{x}\\|_2^2 \\right) = \\mu \\mathbf{I}.\n",
    "$$\n",
    "\n",
    "Finally we get:\n",
    "\n",
    "$$\n",
    "\\nabla^2 f_\\mu(\\mathbf{x}) = \\sum_{i=1}^n -b_i^2 \\sigma(-b_i \\mathbf{a}_i^T \\mathbf{x})(1 - \\sigma(-b_i \\mathbf{a}_i^T \\mathbf{x})) \\mathbf{a}_i \\mathbf{a}_i^T + \\mu \\mathbf{I}.\n",
    "$$\n",
    "\n",
    "but having $b_i^2$ is equal to 1:\n",
    "$$\n",
    "\\nabla^2 f_\\mu(\\mathbf{x}) = \\sum_{i=1}^n \\sigma(-b_i \\mathbf{a}_i^T \\mathbf{x})(1 - \\sigma(-b_i \\mathbf{a}_i^T \\mathbf{x})) \\mathbf{a}_i \\mathbf{a}_i^T + \\mu \\mathbf{I}.\n",
    "$$"
   ]
  },
  {
   "cell_type": "markdown",
   "metadata": {},
   "source": [
    "It is convenient to observe that we can write the Hessian in a more compact form by defining the matrix\n",
    "\\begin{equation}\n",
    "\t\\mathbf{A} = \\begin{bmatrix}\n",
    "        \\leftarrow &  \\mathbf{a}_1^T & \\rightarrow \\\\\n",
    "        \\leftarrow &  \\mathbf{a}_2^T & \\rightarrow \\\\\n",
    "         &  \\ldots &  \\\\\n",
    "        \\leftarrow &  \\mathbf{a}_n^T & \\rightarrow \\\\\n",
    "  \\end{bmatrix}.\n",
    "\\end{equation}\n",
    "It is easy to see that we have\n",
    "\\begin{equation}\n",
    "\t\\nabla^2 f_\\mu(\\mathbf{x}) =  \\mathbf{A}^T \\text{Diag}\\left(\\sigma(-b_i \\cdot \\mathbf{a}_i^T\\mathbf{x})(1 - \\sigma(-b_i \\cdot \\mathbf{a}_i^T\\mathbf{x})) \\right)\\mathbf{A}+ \\mu \\mathbf{I}.\n",
    "\\end{equation}\n"
   ]
  },
  {
   "cell_type": "markdown",
   "metadata": {},
   "source": [
    "__(h)__ (1 point) Show that $f_\\mu$ is $\\mu$-strongly convex. "
   ]
  },
  {
   "cell_type": "markdown",
   "metadata": {},
   "source": [
    "ANSWER : From Lecture 3, a function $f_\\mu$ is $\\mu$-strongly convex if for all $\\mathbf{x}, \\mathbf{y} \\in \\mathbb{R}^p$, we have:\n",
    "\n",
    "$$\n",
    "f(\\mathbf{y}) \\geq f(\\mathbf{x}) + \\langle \\nabla f(\\mathbf{x}), \\mathbf{y} - \\mathbf{x} \\rangle + \\frac{\\mu}{2} \\|\\mathbf{y} - \\mathbf{x}\\|_2^2\n",
    "$$\n",
    "\n",
    "\n",
    "Equivalently, $f_\\mu$ is $\\mu$-strongly convex if the Hessian $\\nabla^2 f_\\mu(\\mathbf{x})$ is positive definite with the smallest eigenvalue being at least $\\mu$, which can be written like $\\nabla^2 f(\\mathbf{x}) \\succeq \\mu \\mathbf{I}, \\quad \\forall \\mathbf{x} \\in \\mathbb{R}^p$. To show that, we write that for any vector $\\mathbf{x}$, we have $\\mathbf{x}^T\\mathbf{A}^T \\mathbf{A}\\mathbf{x}= (\\mathbf{A}\\mathbf{x})^T(\\mathbf{A}\\mathbf{x}) = \\sum_{i=1}^{n} (\\mathbf{a}_i^T\\mathbf{x})^2 \\geq 0 $, which means that $\\mathbf{A}^T \\mathbf{A}$ is positive semidefinite.\n",
    "\n",
    "From the cell above, the term $\\mathbf{A}^T \\text{Diag}\\left(\\sigma(-b_i \\cdot \\mathbf{a}_i^T \\mathbf{x})(1 - \\sigma(-b_i \\cdot \\mathbf{a}_i^T \\mathbf{x})) \\right) \\mathbf{A}$ is a positive semidefinite matrix the diagonal matrix has non-negative entries (since $\\sigma(u)(1 - \\sigma(u)) \\geq 0$ for all $u$).\n",
    "\n",
    "The term $\\mu \\mathbf{I}$ is a positive definite matrix with the smallest eigenvalue being $\\mu$. Therefore, the Hessian is positive definite with the smallest eigenvalue being at least $\\mu$.\n",
    "\n"
   ]
  },
  {
   "cell_type": "markdown",
   "metadata": {},
   "source": [
    "__(i)__ (3 points) Is it possible for a strongly convex function to not attain its minimum ? <a name=\"cite_ref-1\"></a>[<sup>[1]</sup>](#cite_note-1) Justify your reasoning."
   ]
  },
  {
   "cell_type": "markdown",
   "metadata": {},
   "source": [
    "ANSWER: Strictly said the answer is yes. It is possible to find a function that is strongly convex while not attaining its minimum, when the function is lower semi-continous and its domain is a subset of  $\\mathbb{R^n}$. We did not come up with this, but found a post about it on a [forum](https://math.stackexchange.com/questions/2311335/existence-of-minimizer-for-strongly-convex-function-on-closed-convex-set).\n",
    "\n",
    "We will prove that the function $f: [0, \\infty] \\to \\mathbb{R}$,\n",
    "\n",
    "$$\n",
    "f(x) =\n",
    "\\begin{cases} \n",
    "1 & \\text{when } x = 0 \\\\\n",
    "x^2 & \\text{when } x > 0\n",
    "\\end{cases}\n",
    "$$\n",
    "\n",
    "is 2-strongly convex based on the definition of strong convexity, while not attaining its minimum.\n",
    "\n",
    "#### 1. Definition of Strong Convexity\n",
    "\n",
    "A function $f: \\mathcal{Q} \\to \\mathbb{R} \\cup \\{ + \\infty \\} $ , where $ \\mathcal{Q} \\subseteq \\mathbb{R}^p$, is said to be $\\mu$-strongly convex if and only if for all $\\mathbf{x}, \\mathbf{y} \\in \\mathcal{Q}$ and $\\alpha \\in [0, 1]$, the following inequality holds:\n",
    "\n",
    "$$\n",
    "f(\\alpha \\mathbf{x} + (1 - \\alpha) \\mathbf{y}) \\leq \\alpha f(\\mathbf{x}) + (1 - \\alpha) f(\\mathbf{y}) - \\frac{\\mu}{2} \\alpha(1 - \\alpha) \\| \\mathbf{x} - \\mathbf{y} \\|_2^2\n",
    "$$\n",
    "\n",
    "We will verify that this inequality holds for the given function.\n",
    "\n",
    "#### 2. Check strong convexity for the given function:\n",
    "\n",
    "Case 1: $x = 0$ and $y > 0$\n",
    "- For $x = 0$, we have $f(0) = 1$\n",
    "- For $y > 0$, we have $f(y) = y^2$\n",
    "\n",
    "The inequality becomes:\n",
    "$$\n",
    "f(\\alpha \\cdot 0 + (1 - \\alpha) y) \\leq \\alpha f(0) + (1 - \\alpha) f(y) - \\frac{\\mu}{2} \\alpha(1 - \\alpha) \\| 0 - y \\|_2^2 \\\\\n",
    "$$\n",
    "\n",
    "This can futher be simplified,\n",
    "$$\n",
    "\\begin{align*}\n",
    "\\Leftrightarrow (1 - \\alpha)^2 y^2 &\\leq \\alpha + (1 - \\alpha) y^2 - \\frac{\\mu}{2} \\alpha(1 - \\alpha) y^2 \\\\\n",
    "\\Leftrightarrow (1 - 2\\alpha + \\alpha^2) y^2 &\\leq \\alpha + (1 - \\alpha) y^2 - \\frac{\\mu}{2} (\\alpha - \\alpha^2) y^2 \\\\\n",
    "\\Leftrightarrow \\alpha^2 \\left( 1 - \\frac{\\mu}{2} \\right) y^2 &\\leq \\alpha + \\alpha \\left( 1 - \\frac{\\mu}{2} \\right) y^2\n",
    "\\end{align*}\n",
    "$$\n",
    "and since $\\alpha \\in [0, 1]$ this inequality always holds.\n",
    "\n",
    "\n",
    "Case 2: $x > 0$ and $y > 0$\n",
    "\n",
    "This just comes down to proving  that the function $x^2$ for $x > 0$ is 2-strongly convex. Which by the definition of strong convexity in lecture 3, slide 37 is the true. As,\n",
    "$$\n",
    "h(x) = f(x) - \\frac{\\mu}{2} \\|\\mathbf{x}\\|_2^2 = x^2 - \\frac{2}{2} x^2 = 0\n",
    "$$\n",
    "which is a convex function.\n",
    "\n",
    "\n",
    "#### 3. Conclusion\n",
    "\n",
    "From the cases above, we can conclude that the function $ f(x) $ is 2-strongly convex. However, the function does **not attain its minimum** because the minimum value would occur as $ x \\to 0^+ $, and at $ x = 0 $, $ f(0) = 1 $, which is greater than $ f(x) = x^2 $ for small $ x > 0 $. Hence, the function is strongly convex but does not attain its minimum.\n"
   ]
  },
  {
   "cell_type": "markdown",
   "metadata": {},
   "source": [
    "We will now show that $f_\\mu$ is smooth, i.e, $\\nabla f_\\mu$ is L-Lipschitz with respect to the Euclidean norm, with \n",
    "\\begin{equation}\n",
    "\tL = \\|A\\|^2_F + \\mu \\text{, where }\\|\\cdot\\|_F\\text{ denotes the Frobenius norm. }\n",
    "\\end{equation}"
   ]
  },
  {
   "cell_type": "markdown",
   "metadata": {},
   "source": [
    "(1 point for all three questions)"
   ]
  },
  {
   "cell_type": "markdown",
   "metadata": {},
   "source": [
    "__(j-1)__ Show that $\\lambda_{\\max}(\\mathbf{a}_i\\mathbf{a}_i^T) = \\left\\| \\mathbf{a}_i\\right\\|_2^2$, where $\\lambda_{\\max}(\\cdot)$ denotes the largest eigenvalue."
   ]
  },
  {
   "cell_type": "markdown",
   "metadata": {},
   "source": [
    "ANSWER : Consider the matrix $\\mathbf{a}_i \\mathbf{a}_i^T$, where $\\mathbf{a}_i \\in \\mathbb{R}^p$. This matrix is a rank-1 matrix because it is formed by the outer product of the vector $\\mathbf{a}_i$ with itself. The eigenvalues of a rank-1 matrix can be found the following way:\n",
    "\n",
    "$$\n",
    "\\mathbf{a}_i \\mathbf{a}_i^T \\mathbf{v} = \\lambda \\mathbf{v}.\n",
    "$$\n",
    "\n",
    "where $\\mathbf{v}$ is an eigenvector of $\\mathbf{a}_i \\mathbf{a}_i^T$ with eigenvalue $\\lambda$. Consider now the characteristic equation:\n",
    "\n",
    "$$\n",
    "\\det(\\mathbf{a}_i \\mathbf{a}_i^T - \\lambda \\mathbf{I}) = 0.\n",
    "$$\n",
    "\n",
    "Since $\\mathbf{a}_i \\mathbf{a}_i^T$ is a rank-1 matrix, it has at most one non-zero eigenvalue. The other eigenvalues are zero. The non-zero eigenvalue can be found by considering the trace of the matrix:\n",
    "\n",
    "$$\n",
    "\\text{Tr}(\\mathbf{a}_i \\mathbf{a}_i^T) = \\mathbf{a}_i^T \\mathbf{a}_i = \\left\\| \\mathbf{a}_i \\right\\|_2^2.\n",
    "$$\n",
    "\n",
    "Therefore the non-zero eigenvalue must be $\\left\\| \\mathbf{a}_i \\right\\|_2^2$.\n"
   ]
  },
  {
   "cell_type": "markdown",
   "metadata": {},
   "source": [
    "__(j-2)__ Using [2](#mjx-eqn-eq2), show that $\\lambda_{\\max}(\\nabla^2 f_\\mu(\\mathbf{x})) \\leq \\sum_{i=1}^{n} \\|\\mathbf{a}_i\\|_2^2 + \\mu$. \n",
    "\n",
    "__Hint__: Recall that $\\lambda_{\\max}(\\cdot)$ verifies the triangle inequality."
   ]
  },
  {
   "cell_type": "markdown",
   "metadata": {},
   "source": [
    "ANSWER : From part (g), we have the Hessian of $f_\\mu$ expressed as:\n",
    "\n",
    "$$\n",
    "\\nabla^2 f_\\mu(\\mathbf{x}) = \\sum_{i=1}^{n} \\sigma(-b_i \\cdot \\mathbf{a}_i^T \\mathbf{x})(1 - \\sigma(-b_i \\cdot \\mathbf{a}_i^T \\mathbf{x})) \\mathbf{a}_i \\mathbf{a}_i^T + \\mu \\mathbf{I}.\n",
    "$$\n",
    "\n",
    "We need to find an upper bound for $\\lambda_{\\max}(\\nabla^2 f_\\mu(\\mathbf{x}))$. The following hint is given, for any matrices $\\mathbf{A}$ and $\\mathbf{B}$, we have:\n",
    "\n",
    "$$\n",
    "\\lambda_{\\max}(\\mathbf{A} + \\mathbf{B}) \\leq \\lambda_{\\max}(\\mathbf{A}) + \\lambda_{\\max}(\\mathbf{B}).\n",
    "$$\n",
    "\n",
    "Applying the triangle inequality to the Hessian of $f_\\mu$, we get:\n",
    "\n",
    "$$\n",
    "\\lambda_{\\max}(\\nabla^2 f_\\mu(\\mathbf{x})) \\leq \\sum_{i=1}^{n} \\lambda_{\\max}\\left( \\sigma(-b_i \\cdot \\mathbf{a}_i^T \\mathbf{x})(1 - \\sigma(-b_i \\cdot \\mathbf{a}_i^T \\mathbf{x})) \\mathbf{a}_i \\mathbf{a}_i^T \\right) + \\lambda_{\\max}(\\mu \\mathbf{I}).\n",
    "$$\n",
    "\n",
    "\n",
    "Note that $\\sigma(u)(1 - \\sigma(u)) \\leq \\frac{1}{4}$ for all $u$, since $\\sigma(u) \\in [0, 1]$ : \n",
    "$$\n",
    "\\lambda_{\\max}\\left( \\sigma(-b_i \\cdot \\mathbf{a}_i^T \\mathbf{x})(1 - \\sigma(-b_i \\cdot \\mathbf{a}_i^T \\mathbf{x})) \\mathbf{a}_i \\mathbf{a}_i^T \\right) \\leq \\frac{1}{4} \\lambda_{\\max}(\\mathbf{a}_i \\mathbf{a}_i^T).\n",
    "$$\n",
    "\n",
    "From part (j-1), we know that $\\lambda_{\\max}(\\mathbf{a}_i \\mathbf{a}_i^T) = \\|\\mathbf{a}_i\\|_2^2$.\n",
    "\n",
    "$$\n",
    "\\lambda_{\\max}\\left( \\sigma(-b_i \\cdot \\mathbf{a}_i^T \\mathbf{x})(1 - \\sigma(-b_i \\cdot \\mathbf{a}_i^T \\mathbf{x})) \\mathbf{a}_i \\mathbf{a}_i^T \\right) \\leq \\frac{1}{4} \\|\\mathbf{a}_i\\|_2^2.\n",
    "$$\n",
    "\n",
    "For the term $\\mu \\mathbf{I}$, we have $\\lambda_{\\max}(\\mu \\mathbf{I}) = \\mu$.\n",
    "\n",
    "So we get:\n",
    "\n",
    "$$\n",
    "\\lambda_{\\max}(\\nabla^2 f_\\mu(\\mathbf{x})) \\leq \\sum_{i=1}^{n} \\frac{1}{4} \\|\\mathbf{a}_i\\|_2^2 + \\mu \\leq \\sum_{i=1}^{n} \\|\\mathbf{a}_i\\|_2^2 + \\mu..\n",
    "$$"
   ]
  },
  {
   "cell_type": "markdown",
   "metadata": {},
   "source": [
    "__(j-3)__ Conclude that $f_\\mu$ is $L$-smooth for $L = \\|A\\|_F^2 + \\mu$."
   ]
  },
  {
   "cell_type": "markdown",
   "metadata": {},
   "source": [
    "ANSWER : $f_\\mu$ is $L$-smooth if $\\nabla^2 f_\\mu(\\mathbf{x})\\preceq L \\mathbf{I}$\n",
    "\n",
    "We can then take the previous result: $L = \\sum_{i=1}^{n} \\|\\mathbf{a}_i\\|_2^2 + \\mu = \\sum_{i=1}^{n} \\sum_{j=1}^{p} |\\mathbf{a}_{i,j}|^2 + \\mu$.\n",
    "\n",
    "$\\sum_{i=1}^{n} \\sum_{j=1}^{p} |\\mathbf{a}_{i,j}|^2$ is by definition the denotes the square of the Frobenius norm of A. We can then conclude that:\n",
    "\n",
    "$L = \\|A\\|_F^2 + \\mu$"
   ]
  },
  {
   "cell_type": "markdown",
   "metadata": {},
   "source": [
    "__(l)__ (2 point) To finalize, we introduce the Kullback-Leibler (KL) divergence. The KL divergence is a measure of how one probability distribution differs from a second, reference probability distribution. Along side the examples we saw in slide 18 of Lecture 1, the KL divergence is also a useful loss function to be used in learning frameworks.\n",
    "\n",
    "Write the definition of the Kullback-Leibler (KL) divergence between the true label distribution $q(b_i)$ and the model’s predicted distribution $p(b_i∣\\mathbf{a}_i)$ and show that minimizing the KL divergence between $q(b_i)$ and $p(b_i∣\\mathbf{a}_i)$ is equivalent to minimizing the negative log-likelihood derived in (a)."
   ]
  },
  {
   "cell_type": "markdown",
   "metadata": {},
   "source": [
    "Definition:\n",
    "\n",
    "$D_{KL}(q \\| p) = \\sum_{i} q(b_i) \\log\\left( \\frac{q(b_i)}{p(b_i \\mid \\mathbf{a}_i)} \\right)$ , with true label distribution $ q(b_i)$ and the model’s predicted distribution $p(b_i \\mid \\mathbf{a}_i)$\n",
    "\n",
    "With this definition, we can develop:\n",
    "\n",
    "$D_{KL}(q \\| p) = \\sum_{i} q(b_i) \\log(q(b_i)) - \\sum_{i} q(b_i) \\log(p(b_i \\mid \\mathbf{a}_i))$\n",
    "\n",
    "In the context of binary classification, the true label distribution $q(b_i)$ is typically a delta function centered at the true label $b_i$. This means:\n",
    "\n",
    "$$\n",
    "q(b_i) = \\begin{cases}\n",
    "1 & \\text{if } b_i \\text{ is the true label}, \\\\\n",
    "0 & \\text{otherwise}.\n",
    "\\end{cases}\n",
    "$$\n",
    "\n",
    "The first term doesn't depend on the model's predicted distribution so we can remove it in the minimization problem formulation.\n",
    "\n",
    "$\\min D_{KL}(q \\| p) = - \\min \\sum_{i} q(b_i) \\log(p(b_i \\mid \\mathbf{a}_i))$\n",
    "\n",
    "From (a), we had:\n",
    "\n",
    "$f(\\mathbf{x}) = -\\log(\\mathbb{P}(b_1, \\dots, b_n | a_1, \\dots, a_n))  = - \\sum_{i=1}^n  \\log(p(b_i \\mid \\mathbf{a}_i))$\n",
    "\n",
    "Which is equivalent to minimizing the KL divergence between $q(b_i)$ and $p(b_i∣\\mathbf{a}_i)$\n"
   ]
  },
  {
   "cell_type": "markdown",
   "metadata": {},
   "source": [
    "\n",
    "From your work in this section, you have shown that the maximum likelihood estimator for logistic regression might not exist, but it can be guaranteed to exist by adding a $\\|\\cdot\\|_2^2$ regularizer. Consequently, the estimator for $\\mathbf{x}^\\natural$ we will use will be the solution of the smooth strongly convex problem,\n",
    "\\begin{equation}\n",
    "\t\\mathbf{x}^\\star=\\arg\\min_{\\mathbf{x} \\in \\mathbb{R}^p} f(\\mathbf{x}) + \\frac{\\mu}{2}\\|\\mathbf{x}\\|_2^2.\n",
    "\\tag{3}\n",
    "\\end{equation}"
   ]
  },
  {
   "cell_type": "markdown",
   "metadata": {},
   "source": [
    "<a name=\"cite_note-1\"></a>1. [^](#cite_ref-1) TA's will give you candy if you provide a complete proof."
   ]
  }
 ],
 "metadata": {
  "jupytext": {
   "custom_cell_magics": "kql"
  },
  "kernelspec": {
   "display_name": "Python 3",
   "language": "python",
   "name": "python3"
  },
  "language_info": {
   "codemirror_mode": {
    "name": "ipython",
    "version": 3
   },
   "file_extension": ".py",
   "mimetype": "text/x-python",
   "name": "python",
   "nbconvert_exporter": "python",
   "pygments_lexer": "ipython3",
   "version": "3.11.5"
  },
  "widgets": {
   "application/vnd.jupyter.widget-state+json": {
    "state": {},
    "version_major": 2,
    "version_minor": 0
   }
  }
 },
 "nbformat": 4,
 "nbformat_minor": 4
}
